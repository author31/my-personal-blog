{
 "cells": [
  {
   "cell_type": "markdown",
   "metadata": {},
   "source": [
    "# Welcome to my blog"
   ]
  },
  {
   "cell_type": "markdown",
   "metadata": {},
   "source": [
    "I’m Author, an EECS student at National Yang Ming Chiao Tung University, working on robotics research in the [HCIS](https://sites.google.com/site/yitingchen0524/hcis-lab) lab. This blog is basically my notebook for work, ideas, and the occasional brain dump"
   ]
  }
 ],
 "metadata": {
  "kernelspec": {
   "display_name": "python3",
   "language": "python",
   "name": "python3"
  }
 },
 "nbformat": 4,
 "nbformat_minor": 4
}
