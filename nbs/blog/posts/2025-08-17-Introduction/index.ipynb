{
 "cells": [
  {
   "cell_type": "markdown",
   "id": "6717d78a",
   "metadata": {},
   "source": [
    "# Introduction\n",
    "This blog’s where I keep track of what I’m working on and the thoughts that come with it.\n"
   ]
  }
 ],
 "metadata": {
  "language_info": {
   "name": "python"
  }
 },
 "nbformat": 4,
 "nbformat_minor": 5
}
